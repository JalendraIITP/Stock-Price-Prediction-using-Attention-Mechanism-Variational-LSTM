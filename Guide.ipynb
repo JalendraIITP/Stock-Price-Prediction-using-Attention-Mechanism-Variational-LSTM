{
  "cells": [
    {
      "cell_type": "code",
      "source": [
        "import os\n",
        "!git clone https://github.com/JalendraIITP/Stock-Price-Prediction-using-Attention-Mechanism-Variational-LSTM.git",
        "os.chdir('/content/Stock-Price-Prediction-using-Attention-Mechanism-Variational-LSTM')\n",
        "'''\n",
        "Make Sure that you are in main file directory\n",
        "'''"
      ],
      "metadata": {
        "id": "ukKnHZruZE5M"
      },
      "execution_count": 2,
      "outputs": []
    },
    {
      "cell_type": "code",
      "execution_count": 3,
      "metadata": {
        "colab": {
          "base_uri": "https://localhost:8080/"
        },
        "id": "4nPsWL9H6r8y",
        "outputId": "c8b91000-f58d-4d00-a8db-f85c0f979599"
      },
      "outputs": [
        {
          "output_type": "stream",
          "name": "stdout",
          "text": [
            "\r[*********************100%***********************]  1 of 1 completed\n",
            "Model is Training......................\n",
            "\n",
            "Epoch 100/100, Loss: 0.000400: 100% 100/100 [00:30<00:00,  3.26epoch/s]\n"
          ]
        }
      ],
      "source": [
        "!python train.py --StockName AAPL --startDate 2008-01-01 --endDate 2020-12-31 --Model_Name AMVLSTM"
      ]
    },
    {
      "cell_type": "code",
      "execution_count": 4,
      "metadata": {
        "colab": {
          "base_uri": "https://localhost:8080/"
        },
        "id": "iUOuc15g7IlX",
        "outputId": "e4e71667-42e3-4792-e6a2-011c17309b77"
      },
      "outputs": [
        {
          "output_type": "stream",
          "name": "stdout",
          "text": [
            "\r[*********************100%***********************]  1 of 1 completed\n",
            "\n",
            "\n",
            "Evaluation Table for AMVLSTM\n",
            "+--------------------+---------------+---------------+---------------+\n",
            "| Model              | R2 Score      | MSE           | MAE           |\n",
            "+--------------------+---------------+---------------+---------------+\n",
            "| LSTM               | 0.8863        | 84.9877       | 7.5552        |\n",
            "+--------------------+---------------+---------------+---------------+\n",
            "\n",
            "\n"
          ]
        }
      ],
      "source": [
        "!python test.py --StockName AAPL --startDate 2021-01-01 --endDate 2024-12-31 --Model_Name AMVLSTM"
      ]
    },
    {
      "cell_type": "code",
      "execution_count": 5,
      "metadata": {
        "colab": {
          "base_uri": "https://localhost:8080/"
        },
        "id": "WdC89hQaVgpd",
        "outputId": "1be197c6-e9c2-42ee-93a1-c30b6506458b"
      },
      "outputs": [
        {
          "output_type": "stream",
          "name": "stdout",
          "text": [
            "\r[*********************100%***********************]  1 of 1 completed\n",
            "Model is Training......................\n",
            "\n",
            "Epoch 100/100, Loss: 0.000075: 100% 100/100 [00:24<00:00,  4.10epoch/s]\n"
          ]
        }
      ],
      "source": [
        "!python train.py --StockName AAPL --startDate 2008-01-01 --endDate 2020-12-31 --Model_Name VLSTM"
      ]
    },
    {
      "cell_type": "code",
      "execution_count": 6,
      "metadata": {
        "colab": {
          "base_uri": "https://localhost:8080/"
        },
        "id": "gXzLmT5WVmLw",
        "outputId": "5988f6c4-fb12-4f46-a67b-53c8abb389fa"
      },
      "outputs": [
        {
          "output_type": "stream",
          "name": "stdout",
          "text": [
            "\r[*********************100%***********************]  1 of 1 completed\n",
            "\n",
            "\n",
            "Evaluation Table for VLSTM\n",
            "+--------------------+---------------+---------------+---------------+\n",
            "| Model              | R2 Score      | MSE           | MAE           |\n",
            "+--------------------+---------------+---------------+---------------+\n",
            "| LSTM               | 0.7520        | 185.4145      | 10.2405       |\n",
            "+--------------------+---------------+---------------+---------------+\n",
            "\n",
            "\n"
          ]
        }
      ],
      "source": [
        "!python test.py --StockName AAPL --startDate 2021-01-01 --endDate 2024-12-31 --Model_Name VLSTM"
      ]
    },
    {
      "cell_type": "code",
      "execution_count": 7,
      "metadata": {
        "colab": {
          "base_uri": "https://localhost:8080/"
        },
        "id": "zSxQG6WxV0wj",
        "outputId": "f390e16f-2e62-4562-836c-df9e0cb11a5a"
      },
      "outputs": [
        {
          "output_type": "stream",
          "name": "stdout",
          "text": [
            "\r[*********************100%***********************]  1 of 1 completed\n",
            "Model is Training......................\n",
            "\n",
            "Epoch 100/100, Loss: 0.000097: 100% 100/100 [00:22<00:00,  4.51epoch/s]\n"
          ]
        }
      ],
      "source": [
        "!python train.py --StockName AAPL --startDate 2008-01-01 --endDate 2020-12-31 --Model_Name LSTM"
      ]
    },
    {
      "cell_type": "code",
      "execution_count": 8,
      "metadata": {
        "colab": {
          "base_uri": "https://localhost:8080/"
        },
        "id": "bEkd03chV4Ha",
        "outputId": "7236e73f-872d-4d30-d7fa-357304e61ba9"
      },
      "outputs": [
        {
          "output_type": "stream",
          "name": "stdout",
          "text": [
            "\r[*********************100%***********************]  1 of 1 completed\n",
            "\n",
            "\n",
            "Evaluation Table for LSTM\n",
            "+--------------------+---------------+---------------+---------------+\n",
            "| Model              | R2 Score      | MSE           | MAE           |\n",
            "+--------------------+---------------+---------------+---------------+\n",
            "| LSTM               | 0.7125        | 214.9967      | 11.1653       |\n",
            "+--------------------+---------------+---------------+---------------+\n",
            "\n",
            "\n"
          ]
        }
      ],
      "source": [
        "!python test.py --StockName AAPL --startDate 2021-01-01 --endDate 2024-12-31 --Model_Name LSTM"
      ]
    }
  ],
  "metadata": {
    "accelerator": "GPU",
    "colab": {
      "gpuType": "T4",
      "provenance": []
    },
    "kernelspec": {
      "display_name": "base",
      "language": "python",
      "name": "python3"
    },
    "language_info": {
      "codemirror_mode": {
        "name": "ipython",
        "version": 3
      },
      "file_extension": ".py",
      "mimetype": "text/x-python",
      "name": "python",
      "nbconvert_exporter": "python",
      "pygments_lexer": "ipython3",
      "version": "3.12.4"
    }
  },
  "nbformat": 4,
  "nbformat_minor": 0
}
