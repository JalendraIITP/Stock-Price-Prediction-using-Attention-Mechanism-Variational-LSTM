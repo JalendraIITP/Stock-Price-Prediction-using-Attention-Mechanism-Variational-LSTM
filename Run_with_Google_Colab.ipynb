{
  "cells": [
    {
      "cell_type": "code",
      "source": [
        "import os"
      ],
      "metadata": {
        "id": "ukKnHZruZE5M"
      },
      "execution_count": 1,
      "outputs": []
    },
    {
      "cell_type": "code",
      "source": [
        "!git clone https://github.com/JalendraIITP/Stock-Price-Prediction-using-Attention-Mechanism-Variational-LSTM.git"
      ],
      "metadata": {
        "id": "0o7ngU_Jc6G8",
        "colab": {
          "base_uri": "https://localhost:8080/"
        },
        "outputId": "e01070c6-43db-4539-af1c-b3170c1b0ba7"
      },
      "execution_count": 2,
      "outputs": [
        {
          "output_type": "stream",
          "name": "stdout",
          "text": [
            "Cloning into 'Stock-Price-Prediction-using-Attention-Mechanism-Variational-LSTM'...\n",
            "remote: Enumerating objects: 28, done.\u001b[K\n",
            "remote: Counting objects: 100% (28/28), done.\u001b[K\n",
            "remote: Compressing objects: 100% (28/28), done.\u001b[K\n",
            "remote: Total 28 (delta 8), reused 12 (delta 0), pack-reused 0 (from 0)\u001b[K\n",
            "Receiving objects: 100% (28/28), 644.24 KiB | 2.35 MiB/s, done.\n",
            "Resolving deltas: 100% (8/8), done.\n"
          ]
        }
      ]
    },
    {
      "cell_type": "code",
      "source": [
        "os.chdir('/content/Stock-Price-Prediction-using-Attention-Mechanism-Variational-LSTM')"
      ],
      "metadata": {
        "id": "6bl_osPJcLMZ"
      },
      "execution_count": 3,
      "outputs": []
    },
    {
      "cell_type": "code",
      "execution_count": 4,
      "metadata": {
        "colab": {
          "base_uri": "https://localhost:8080/"
        },
        "id": "4nPsWL9H6r8y",
        "outputId": "a89f3fe3-cedb-4d93-94e2-7610a86137ad"
      },
      "outputs": [
        {
          "output_type": "stream",
          "name": "stdout",
          "text": [
            "\r[*********************100%***********************]  1 of 1 completed\n",
            "Model is Training......................\n",
            "\n",
            "Epoch 100/100, Loss: 0.000094: 100% 100/100 [00:45<00:00,  2.19epoch/s]\n"
          ]
        }
      ],
      "source": [
        "!python train.py --StockName GOOGL --startDate 2004-08-19 --endDate 2020-12-31 --Model_Name AMVLSTM"
      ]
    },
    {
      "cell_type": "code",
      "execution_count": 5,
      "metadata": {
        "colab": {
          "base_uri": "https://localhost:8080/"
        },
        "id": "iUOuc15g7IlX",
        "outputId": "fd4aab3a-3531-40ae-811b-33ece98fce48"
      },
      "outputs": [
        {
          "output_type": "stream",
          "name": "stdout",
          "text": [
            "\r[*********************100%***********************]  1 of 1 completed\n",
            "\n",
            "\n",
            "Evaluation Table for AMVLSTM\n",
            "+--------------------+---------------+---------------+---------------+\n",
            "| Model              | R2 Score      | MSE           | MAE           |\n",
            "+--------------------+---------------+---------------+---------------+\n",
            "| LSTM               | 0.9779        | 11.9392       | 2.6519        |\n",
            "+--------------------+---------------+---------------+---------------+\n",
            "\n",
            "\n"
          ]
        }
      ],
      "source": [
        "!python test.py --StockName GOOGL --startDate 2021-01-01 --endDate 2024-10-31 --Model_Name AMVLSTM"
      ]
    },
    {
      "cell_type": "code",
      "execution_count": 6,
      "metadata": {
        "colab": {
          "base_uri": "https://localhost:8080/"
        },
        "id": "WdC89hQaVgpd",
        "outputId": "56be2dab-be5a-4c29-aa4b-66cb3b7032e6"
      },
      "outputs": [
        {
          "output_type": "stream",
          "name": "stdout",
          "text": [
            "\r[*********************100%***********************]  1 of 1 completed\n",
            "Model is Training......................\n",
            "\n",
            "Epoch 100/100, Loss: 0.000075: 100% 100/100 [00:30<00:00,  3.29epoch/s]\n"
          ]
        }
      ],
      "source": [
        "!python train.py --StockName GOOGL --startDate 2004-08-19 --endDate 2020-12-31 --Model_Name VLSTM"
      ]
    },
    {
      "cell_type": "code",
      "execution_count": 7,
      "metadata": {
        "colab": {
          "base_uri": "https://localhost:8080/"
        },
        "id": "gXzLmT5WVmLw",
        "outputId": "ce6f0f45-1065-4a20-e970-7c43e7062259"
      },
      "outputs": [
        {
          "output_type": "stream",
          "name": "stdout",
          "text": [
            "\r[*********************100%***********************]  1 of 1 completed\n",
            "\n",
            "\n",
            "Evaluation Table for VLSTM\n",
            "+--------------------+---------------+---------------+---------------+\n",
            "| Model              | R2 Score      | MSE           | MAE           |\n",
            "+--------------------+---------------+---------------+---------------+\n",
            "| LSTM               | 0.8166        | 99.1781       | 7.8780        |\n",
            "+--------------------+---------------+---------------+---------------+\n",
            "\n",
            "\n"
          ]
        }
      ],
      "source": [
        "!python test.py --StockName GOOGL --startDate 2021-01-01 --endDate 2024-10-31 --Model_Name VLSTM"
      ]
    },
    {
      "cell_type": "code",
      "execution_count": 8,
      "metadata": {
        "colab": {
          "base_uri": "https://localhost:8080/"
        },
        "id": "zSxQG6WxV0wj",
        "outputId": "5526713d-78f5-4228-9406-1ec24536d123"
      },
      "outputs": [
        {
          "output_type": "stream",
          "name": "stdout",
          "text": [
            "\r[*********************100%***********************]  1 of 1 completed\n",
            "Model is Training......................\n",
            "\n",
            "Epoch 100/100, Loss: 0.000078: 100% 100/100 [00:27<00:00,  3.64epoch/s]\n"
          ]
        }
      ],
      "source": [
        "!python train.py --StockName GOOGL --startDate 2004-08-19 --endDate 2020-12-31 --Model_Name LSTM"
      ]
    },
    {
      "cell_type": "code",
      "execution_count": 9,
      "metadata": {
        "colab": {
          "base_uri": "https://localhost:8080/"
        },
        "id": "bEkd03chV4Ha",
        "outputId": "3abfb8ac-66e3-4126-d3ef-861c63b03d9e"
      },
      "outputs": [
        {
          "output_type": "stream",
          "name": "stdout",
          "text": [
            "\r[*********************100%***********************]  1 of 1 completed\n",
            "\n",
            "\n",
            "Evaluation Table for LSTM\n",
            "+--------------------+---------------+---------------+---------------+\n",
            "| Model              | R2 Score      | MSE           | MAE           |\n",
            "+--------------------+---------------+---------------+---------------+\n",
            "| LSTM               | 0.7856        | 115.9576      | 8.6093        |\n",
            "+--------------------+---------------+---------------+---------------+\n",
            "\n",
            "\n"
          ]
        }
      ],
      "source": [
        "!python test.py --StockName GOOGL --startDate 2021-01-01 --endDate 2024-10-31 --Model_Name LSTM"
      ]
    }
  ],
  "metadata": {
    "accelerator": "GPU",
    "colab": {
      "gpuType": "T4",
      "provenance": []
    },
    "kernelspec": {
      "display_name": "base",
      "language": "python",
      "name": "python3"
    },
    "language_info": {
      "codemirror_mode": {
        "name": "ipython",
        "version": 3
      },
      "file_extension": ".py",
      "mimetype": "text/x-python",
      "name": "python",
      "nbconvert_exporter": "python",
      "pygments_lexer": "ipython3",
      "version": "3.12.4"
    }
  },
  "nbformat": 4,
  "nbformat_minor": 0
}