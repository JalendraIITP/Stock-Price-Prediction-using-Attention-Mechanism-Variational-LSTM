{
  "cells": [
    {
      "cell_type": "code",
      "source": [
        "import os"
      ],
      "metadata": {
        "id": "ukKnHZruZE5M"
      },
      "execution_count": 1,
      "outputs": []
    },
    {
      "cell_type": "code",
      "source": [
        "!git clone https://github.com/JalendraIITP/Stock-Price-Prediction-using-Attention-Mechanism-Variational-LSTM.git"
      ],
      "metadata": {
        "id": "0o7ngU_Jc6G8",
        "colab": {
          "base_uri": "https://localhost:8080/"
        },
        "outputId": "56d5c43e-2aeb-4b25-8f80-ae51c2f2ff42"
      },
      "execution_count": 2,
      "outputs": [
        {
          "output_type": "stream",
          "name": "stdout",
          "text": [
            "Cloning into 'Stock-Price-Prediction-using-Attention-Mechanism-Variational-LSTM'...\n",
            "remote: Enumerating objects: 23, done.\u001b[K\n",
            "remote: Counting objects: 100% (23/23), done.\u001b[K\n",
            "remote: Compressing objects: 100% (23/23), done.\u001b[K\n",
            "remote: Total 23 (delta 5), reused 12 (delta 0), pack-reused 0 (from 0)\u001b[K\n",
            "Receiving objects: 100% (23/23), 641.80 KiB | 18.34 MiB/s, done.\n",
            "Resolving deltas: 100% (5/5), done.\n"
          ]
        }
      ]
    },
    {
      "cell_type": "code",
      "source": [
        "os.chdir('/content/Stock-Price-Prediction-using-Attention-Mechanism-Variational-LSTM')"
      ],
      "metadata": {
        "id": "6bl_osPJcLMZ"
      },
      "execution_count": 3,
      "outputs": []
    },
    {
      "cell_type": "code",
      "execution_count": 4,
      "metadata": {
        "colab": {
          "base_uri": "https://localhost:8080/"
        },
        "id": "4nPsWL9H6r8y",
        "outputId": "d2366a07-ecf1-4cf2-9f10-2c698f60e858"
      },
      "outputs": [
        {
          "output_type": "stream",
          "name": "stdout",
          "text": [
            "\r[*********************100%***********************]  1 of 1 completed\n",
            "Model is Training......................\n",
            "\n",
            "Epoch 100/100, Loss: 0.000400: 100% 100/100 [00:34<00:00,  2.86epoch/s]\n"
          ]
        }
      ],
      "source": [
        "!python train.py --StockName AAPL --startDate 2008-01-01 --endDate 2020-12-31 --Model_Name AMVLSTM"
      ]
    },
    {
      "cell_type": "code",
      "execution_count": 5,
      "metadata": {
        "colab": {
          "base_uri": "https://localhost:8080/"
        },
        "id": "iUOuc15g7IlX",
        "outputId": "6bd5a6c5-df63-450c-ecd6-5d762079f2d1"
      },
      "outputs": [
        {
          "output_type": "stream",
          "name": "stdout",
          "text": [
            "\r[*********************100%***********************]  1 of 1 completed\n",
            "\n",
            "\n",
            "Evaluation Table for AMVLSTM\n",
            "+--------------------+---------------+---------------+---------------+\n",
            "| Model              | R2 Score      | MSE           | MAE           |\n",
            "+--------------------+---------------+---------------+---------------+\n",
            "| LSTM               | 0.8894        | 84.3754       | 7.5240        |\n",
            "+--------------------+---------------+---------------+---------------+\n",
            "\n",
            "\n"
          ]
        }
      ],
      "source": [
        "!python test.py --StockName AAPL --startDate 2021-01-01 --endDate 2024-12-31 --Model_Name AMVLSTM"
      ]
    },
    {
      "cell_type": "code",
      "execution_count": 6,
      "metadata": {
        "colab": {
          "base_uri": "https://localhost:8080/"
        },
        "id": "WdC89hQaVgpd",
        "outputId": "87985385-1adf-4b89-e2f3-74829d5380fe"
      },
      "outputs": [
        {
          "output_type": "stream",
          "name": "stdout",
          "text": [
            "\r[*********************100%***********************]  1 of 1 completed\n",
            "Model is Training......................\n",
            "\n",
            "Epoch 100/100, Loss: 0.000075: 100% 100/100 [00:26<00:00,  3.79epoch/s]\n"
          ]
        }
      ],
      "source": [
        "!python train.py --StockName AAPL --startDate 2008-01-01 --endDate 2020-12-31 --Model_Name VLSTM"
      ]
    },
    {
      "cell_type": "code",
      "execution_count": 7,
      "metadata": {
        "colab": {
          "base_uri": "https://localhost:8080/"
        },
        "id": "gXzLmT5WVmLw",
        "outputId": "801d81b7-321a-485c-ffc2-5022d8d5e663"
      },
      "outputs": [
        {
          "output_type": "stream",
          "name": "stdout",
          "text": [
            "\r[*********************100%***********************]  1 of 1 completed\n",
            "\n",
            "\n",
            "Evaluation Table for VLSTM\n",
            "+--------------------+---------------+---------------+---------------+\n",
            "| Model              | R2 Score      | MSE           | MAE           |\n",
            "+--------------------+---------------+---------------+---------------+\n",
            "| LSTM               | 0.7510        | 189.9252      | 10.3621       |\n",
            "+--------------------+---------------+---------------+---------------+\n",
            "\n",
            "\n"
          ]
        }
      ],
      "source": [
        "!python test.py --StockName AAPL --startDate 2021-01-01 --endDate 2024-12-31 --Model_Name VLSTM"
      ]
    },
    {
      "cell_type": "code",
      "execution_count": 8,
      "metadata": {
        "colab": {
          "base_uri": "https://localhost:8080/"
        },
        "id": "zSxQG6WxV0wj",
        "outputId": "46d7e67e-d328-4759-e289-fbcd7b1e6ece"
      },
      "outputs": [
        {
          "output_type": "stream",
          "name": "stdout",
          "text": [
            "\r[*********************100%***********************]  1 of 1 completed\n",
            "Model is Training......................\n",
            "\n",
            "Epoch 100/100, Loss: 0.000097: 100% 100/100 [00:24<00:00,  4.10epoch/s]\n"
          ]
        }
      ],
      "source": [
        "!python train.py --StockName AAPL --startDate 2008-01-01 --endDate 2020-12-31 --Model_Name LSTM"
      ]
    },
    {
      "cell_type": "code",
      "execution_count": 9,
      "metadata": {
        "colab": {
          "base_uri": "https://localhost:8080/"
        },
        "id": "bEkd03chV4Ha",
        "outputId": "9d99ce1f-093c-4b06-ec4e-ffe9fd410cb0"
      },
      "outputs": [
        {
          "output_type": "stream",
          "name": "stdout",
          "text": [
            "\r[*********************100%***********************]  1 of 1 completed\n",
            "\n",
            "\n",
            "Evaluation Table for LSTM\n",
            "+--------------------+---------------+---------------+---------------+\n",
            "| Model              | R2 Score      | MSE           | MAE           |\n",
            "+--------------------+---------------+---------------+---------------+\n",
            "| LSTM               | 0.7112        | 220.2144      | 11.2952       |\n",
            "+--------------------+---------------+---------------+---------------+\n",
            "\n",
            "\n"
          ]
        }
      ],
      "source": [
        "!python test.py --StockName AAPL --startDate 2021-01-01 --endDate 2024-12-31 --Model_Name LSTM"
      ]
    }
  ],
  "metadata": {
    "accelerator": "GPU",
    "colab": {
      "gpuType": "T4",
      "provenance": []
    },
    "kernelspec": {
      "display_name": "base",
      "language": "python",
      "name": "python3"
    },
    "language_info": {
      "codemirror_mode": {
        "name": "ipython",
        "version": 3
      },
      "file_extension": ".py",
      "mimetype": "text/x-python",
      "name": "python",
      "nbconvert_exporter": "python",
      "pygments_lexer": "ipython3",
      "version": "3.12.4"
    }
  },
  "nbformat": 4,
  "nbformat_minor": 0
}